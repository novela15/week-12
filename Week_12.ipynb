{
  "nbformat": 4,
  "nbformat_minor": 0,
  "metadata": {
    "colab": {
      "provenance": []
    },
    "kernelspec": {
      "name": "python3",
      "display_name": "Python 3"
    },
    "language_info": {
      "name": "python"
    }
  },
  "cells": [
    {
      "cell_type": "markdown",
      "source": [
        "# **Weekly Exercise 1**"
      ],
      "metadata": {
        "id": "_CzoC_49aAb_"
      }
    },
    {
      "cell_type": "code",
      "source": [
        "import math\n",
        "\n",
        "def input_integer(prompt):\n",
        "    while True:\n",
        "        value = input(prompt)\n",
        "        try:\n",
        "            if value.strip() == \"\":\n",
        "                raise ValueError(\"tidak boleh kosong\")\n",
        "            return int(value)\n",
        "        except ValueError as e:\n",
        "            if str(e) == \"tidak boleh kosong\":\n",
        "                print(e)\n",
        "            else:\n",
        "                print(\"hanya boleh memasukkan angka\")\n",
        "\n",
        "def hitung_luas_persegi():\n",
        "    print(\"Menghitung Luas Persegi\")\n",
        "    sisi = input_integer(\"Masukkan panjang sisi: \")\n",
        "    luas = sisi * sisi\n",
        "    print(f\"Luas Persegi: {luas}\")\n",
        "\n",
        "def hitung_luas_lingkaran():\n",
        "    print(\"Menghitung Luas Lingkaran\")\n",
        "    jari_jari = input_integer(\"Masukkan jari-jari: \")\n",
        "    luas = math.pi * (jari_jari ** 2)\n",
        "    print(f\"Luas Lingkaran: {luas:.2f}\")\n",
        "\n",
        "def main():\n",
        "    print(\"Pilih bangun datar yang ingin dihitung:\")\n",
        "    print(\"1. Persegi\")\n",
        "    print(\"2. Lingkaran\")\n",
        "\n",
        "    pilihan = input_integer(\"Masukkan pilihan (1/2): \")\n",
        "\n",
        "    if pilihan == 1:\n",
        "        hitung_luas_persegi()\n",
        "    elif pilihan == 2:\n",
        "        hitung_luas_lingkaran()\n",
        "    else:\n",
        "        print(\"Pilihan tidak valid\")\n",
        "\n",
        "if __name__ == \"__main__\":\n",
        "    main()"
      ],
      "metadata": {
        "id": "VffhwX0JZvnu"
      },
      "execution_count": 4,
      "outputs": []
    },
    {
      "cell_type": "markdown",
      "source": [
        "# **Weekly Exercise 2**"
      ],
      "metadata": {
        "id": "YANLTR9EaHVO"
      }
    },
    {
      "cell_type": "code",
      "source": [
        "NPM = input(\"Masukkan NPM anda :\")\n",
        "try:\n",
        "    jumlah_genap = 0\n",
        "    jumlah_ganjil = 0\n",
        "    for angka in NPM:\n",
        "        if not angka.isdigit():\n",
        "            raise ValueError(\"NPM harus berisi angka saja\")\n",
        "        angka_int = int(angka)\n",
        "        if angka_int % 2 == 0:\n",
        "            jumlah_genap += 1\n",
        "        else:\n",
        "            jumlah_ganjil += 1\n",
        "    print(\"Jumlah genap :\", jumlah_genap)\n",
        "    print(\"Jumlah ganjil :\", jumlah_ganjil)\n",
        "\n",
        "except ValueError as S:\n",
        "    print(f\"Error: {S}\")\n",
        "except Exception as S:\n",
        "    print(f\"Terjadi kesalahan: {S}\")"
      ],
      "metadata": {
        "id": "vay-WYFwaMhu",
        "colab": {
          "base_uri": "https://localhost:8080/"
        },
        "outputId": "41f57dca-b5e2-427c-9b75-b80c4fbffebc"
      },
      "execution_count": 3,
      "outputs": [
        {
          "output_type": "stream",
          "name": "stdout",
          "text": [
            "Masukkan NPM anda :24205060400\n",
            "Jumlah genap : 10\n",
            "Jumlah ganjil : 1\n"
          ]
        }
      ]
    }
  ]
}